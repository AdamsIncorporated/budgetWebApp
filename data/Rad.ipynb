{
 "cells": [
  {
   "cell_type": "code",
   "execution_count": 11,
   "metadata": {},
   "outputs": [],
   "source": [
    "import sqlite3\n",
    "import pandas as pd\n",
    "import warnings\n",
    "import numpy as np\n",
    "\n",
    "warnings.filterwarnings('ignore')"
   ]
  },
  {
   "cell_type": "code",
   "execution_count": 12,
   "metadata": {},
   "outputs": [],
   "source": [
    "conn = sqlite3.connect(\"main.db\")"
   ]
  },
  {
   "cell_type": "code",
   "execution_count": 13,
   "metadata": {},
   "outputs": [
    {
     "data": {
      "text/html": [
       "<div>\n",
       "<style scoped>\n",
       "    .dataframe tbody tr th:only-of-type {\n",
       "        vertical-align: middle;\n",
       "    }\n",
       "\n",
       "    .dataframe tbody tr th {\n",
       "        vertical-align: top;\n",
       "    }\n",
       "\n",
       "    .dataframe thead th {\n",
       "        text-align: right;\n",
       "    }\n",
       "</style>\n",
       "<table border=\"1\" class=\"dataframe\">\n",
       "  <thead>\n",
       "    <tr style=\"text-align: right;\">\n",
       "      <th></th>\n",
       "      <th>Id</th>\n",
       "      <th>RADTypeId</th>\n",
       "      <th>RADType</th>\n",
       "      <th>RADId</th>\n",
       "      <th>RAD</th>\n",
       "    </tr>\n",
       "  </thead>\n",
       "  <tbody>\n",
       "    <tr>\n",
       "      <th>0</th>\n",
       "      <td>1</td>\n",
       "      <td>BENE</td>\n",
       "      <td>Benefits</td>\n",
       "      <td>401A</td>\n",
       "      <td>Pension (401a)</td>\n",
       "    </tr>\n",
       "    <tr>\n",
       "      <th>1</th>\n",
       "      <td>2</td>\n",
       "      <td>BENE</td>\n",
       "      <td>Benefits</td>\n",
       "      <td>457</td>\n",
       "      <td>Deferred Compensation(457)</td>\n",
       "    </tr>\n",
       "    <tr>\n",
       "      <th>2</th>\n",
       "      <td>3</td>\n",
       "      <td>BENE</td>\n",
       "      <td>Benefits</td>\n",
       "      <td>CAR</td>\n",
       "      <td>Car Allowance</td>\n",
       "    </tr>\n",
       "    <tr>\n",
       "      <th>3</th>\n",
       "      <td>4</td>\n",
       "      <td>BENE</td>\n",
       "      <td>Benefits</td>\n",
       "      <td>CELL</td>\n",
       "      <td>Cell Phone Allowance</td>\n",
       "    </tr>\n",
       "    <tr>\n",
       "      <th>4</th>\n",
       "      <td>5</td>\n",
       "      <td>BENE</td>\n",
       "      <td>Benefits</td>\n",
       "      <td>DENTAL</td>\n",
       "      <td>Employee Insurance - Dental</td>\n",
       "    </tr>\n",
       "  </tbody>\n",
       "</table>\n",
       "</div>"
      ],
      "text/plain": [
       "   Id RADTypeId   RADType   RADId                          RAD\n",
       "0   1      BENE  Benefits    401A               Pension (401a)\n",
       "1   2      BENE  Benefits     457   Deferred Compensation(457)\n",
       "2   3      BENE  Benefits     CAR                Car Allowance\n",
       "3   4      BENE  Benefits    CELL         Cell Phone Allowance\n",
       "4   5      BENE  Benefits  DENTAL  Employee Insurance - Dental"
      ]
     },
     "execution_count": 13,
     "metadata": {},
     "output_type": "execute_result"
    }
   ],
   "source": [
    "raw = pd.read_csv(r\"C:\\Users\\adamss\\OneDrive - Central Health\\Budget Project\\csvUploads\\rads.csv\")\n",
    "raw.head()"
   ]
  },
  {
   "cell_type": "code",
   "execution_count": 14,
   "metadata": {},
   "outputs": [
    {
     "data": {
      "text/html": [
       "<div>\n",
       "<style scoped>\n",
       "    .dataframe tbody tr th:only-of-type {\n",
       "        vertical-align: middle;\n",
       "    }\n",
       "\n",
       "    .dataframe tbody tr th {\n",
       "        vertical-align: top;\n",
       "    }\n",
       "\n",
       "    .dataframe thead th {\n",
       "        text-align: right;\n",
       "    }\n",
       "</style>\n",
       "<table border=\"1\" class=\"dataframe\">\n",
       "  <thead>\n",
       "    <tr style=\"text-align: right;\">\n",
       "      <th></th>\n",
       "      <th>RADTypeId</th>\n",
       "      <th>RADId</th>\n",
       "      <th>RAD</th>\n",
       "    </tr>\n",
       "  </thead>\n",
       "  <tbody>\n",
       "    <tr>\n",
       "      <th>0</th>\n",
       "      <td>BENE</td>\n",
       "      <td>401A</td>\n",
       "      <td>Pension (401a)</td>\n",
       "    </tr>\n",
       "    <tr>\n",
       "      <th>1</th>\n",
       "      <td>BENE</td>\n",
       "      <td>457</td>\n",
       "      <td>Deferred Compensation(457)</td>\n",
       "    </tr>\n",
       "    <tr>\n",
       "      <th>2</th>\n",
       "      <td>BENE</td>\n",
       "      <td>CAR</td>\n",
       "      <td>Car Allowance</td>\n",
       "    </tr>\n",
       "    <tr>\n",
       "      <th>3</th>\n",
       "      <td>BENE</td>\n",
       "      <td>CELL</td>\n",
       "      <td>Cell Phone Allowance</td>\n",
       "    </tr>\n",
       "    <tr>\n",
       "      <th>4</th>\n",
       "      <td>BENE</td>\n",
       "      <td>DENTAL</td>\n",
       "      <td>Employee Insurance - Dental</td>\n",
       "    </tr>\n",
       "  </tbody>\n",
       "</table>\n",
       "</div>"
      ],
      "text/plain": [
       "  RADTypeId   RADId                          RAD\n",
       "0      BENE    401A               Pension (401a)\n",
       "1      BENE     457   Deferred Compensation(457)\n",
       "2      BENE     CAR                Car Allowance\n",
       "3      BENE    CELL         Cell Phone Allowance\n",
       "4      BENE  DENTAL  Employee Insurance - Dental"
      ]
     },
     "execution_count": 14,
     "metadata": {},
     "output_type": "execute_result"
    }
   ],
   "source": [
    "rad = raw.copy()\n",
    "rad = rad[['RADTypeId', 'RADId', 'RAD']]\n",
    "rad.head()"
   ]
  },
  {
   "cell_type": "code",
   "execution_count": 15,
   "metadata": {},
   "outputs": [],
   "source": [
    "def import_func(df: pd.DataFrame()) -> None:\n",
    "    df.to_sql('Rad', conn, if_exists='append', index=False)\n",
    "    \n",
    "# import_func(rad)"
   ]
  }
 ],
 "metadata": {
  "kernelspec": {
   "display_name": "Python 3",
   "language": "python",
   "name": "python3"
  },
  "language_info": {
   "codemirror_mode": {
    "name": "ipython",
    "version": 3
   },
   "file_extension": ".py",
   "mimetype": "text/x-python",
   "name": "python",
   "nbconvert_exporter": "python",
   "pygments_lexer": "ipython3",
   "version": "3.12.6"
  }
 },
 "nbformat": 4,
 "nbformat_minor": 2
}
